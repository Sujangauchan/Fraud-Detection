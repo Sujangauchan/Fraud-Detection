{
  "cells": [
    {
      "cell_type": "markdown",
      "metadata": {
        "id": "view-in-github",
        "colab_type": "text"
      },
      "source": [
        "<a href=\"https://colab.research.google.com/github/Sujangauchan/Fraud-Detection/blob/main/Fraud_Detection.ipynb\" target=\"_parent\"><img src=\"https://colab.research.google.com/assets/colab-badge.svg\" alt=\"Open In Colab\"/></a>"
      ]
    },
    {
      "cell_type": "markdown",
      "source": [
        "# Categorical Features -\n",
        "\n",
        "## Transaction:\n",
        "\n",
        "* ProductCD\n",
        "* card1 - card6\n",
        "* addr1, addr2\n",
        "* P_emaildomain\n",
        "* R_emaildomain\n",
        "* M1 - M9\n",
        "\n",
        "## Categorical Features - Identity\n",
        "\n",
        "* DeviceType\n",
        "* DeviceInfo\n",
        "* id_12 - id_38"
      ],
      "metadata": {
        "id": "ZRuy-bE-9smh"
      },
      "id": "ZRuy-bE-9smh"
    },
    {
      "cell_type": "code",
      "source": [
        "import pandas as pd\n",
        "import numpy as np\n",
        "import time\n",
        "import datetime\n",
        "\n",
        "import matplotlib.pyplot as plt\n",
        "import seaborn as sns\n",
        "import plotly.express as px\n",
        "import plotly.graph_objects as go\n",
        "\n",
        "from scipy import stats\n",
        "from scipy.stats import norm, skew\n",
        "from scipy.special import boxcox1p\n",
        "from scipy.stats import boxcox_normmax\n",
        "\n",
        "from sklearn import preprocessing\n",
        "from sklearn.preprocessing import LabelEncoder\n",
        "from sklearn.preprocessing import StandardScaler\n",
        "\n",
        "import sklearn\n",
        "from sklearn import metrics\n",
        "from sklearn.metrics import roc_curve, auc, roc_auc_score\n",
        "from sklearn.metrics import classification_report, confusion_matrix\n",
        "from sklearn.metrics import average_precision_score, precision_recall_curve\n",
        "\n",
        "from sklearn.model_selection import train_test_split\n",
        "from sklearn.model_selection import StratifiedKFold\n",
        "from sklearn.model_selection import GridSearchCV, RandomizedSearchCV\n",
        "\n",
        "from sklearn.linear_model import Ridge, Lasso, LogisticRegression\n",
        "from sklearn.linear_model import LogisticRegressionCV\n",
        "from sklearn.neighbors import KNeighborsClassifier\n",
        "from sklearn.tree import DecisionTreeClassifier\n",
        "from sklearn.ensemble import AdaBoostClassifier\n",
        "from sklearn.ensemble import RandomForestClassifier\n",
        "import xgboost as xgb\n",
        "from xgboost import XGBClassifier\n",
        "from xgboost import plot_importance\n",
        "\n",
        "import warnings\n",
        "warnings.filterwarnings('ignore')\n",
        "\n",
        "from google.colab import files\n",
        "\n",
        "\n",
        "\n"
      ],
      "metadata": {
        "id": "VBzXJMdbY1z4"
      },
      "id": "VBzXJMdbY1z4",
      "execution_count": 1,
      "outputs": []
    },
    {
      "cell_type": "code",
      "source": [
        "from google.colab import drive\n",
        "drive.mount('/content/drive')"
      ],
      "metadata": {
        "colab": {
          "base_uri": "https://localhost:8080/"
        },
        "id": "h7czGe8iZVG8",
        "outputId": "755e66ef-ade0-4196-eb84-45eaf77d28dd"
      },
      "id": "h7czGe8iZVG8",
      "execution_count": 2,
      "outputs": [
        {
          "output_type": "stream",
          "name": "stdout",
          "text": [
            "Mounted at /content/drive\n"
          ]
        }
      ]
    },
    {
      "cell_type": "code",
      "execution_count": 3,
      "id": "310cf188",
      "metadata": {
        "scrolled": true,
        "id": "310cf188"
      },
      "outputs": [],
      "source": [
        "# Specify the file path\n",
        "test_transaction = pd.read_csv('/content/drive/MyDrive/IEEE fraud detection files/test_transaction.csv')\n",
        "test_identity = pd.read_csv('/content/drive/MyDrive/IEEE fraud detection files/test_identity.csv')\n",
        "train_transaction = pd.read_csv('/content/drive/MyDrive/IEEE fraud detection files/train_transaction.csv')\n",
        "train_identity = pd.read_csv('/content/drive/MyDrive/IEEE fraud detection files/train_identity.csv')\n",
        "all_transaction= pd.concat([test_transaction,train_transaction],axis=0)\n",
        "all_identity= pd.concat([test_identity,train_identity],axis=0)\n"
      ]
    },
    {
      "cell_type": "markdown",
      "source": [
        "# Merging the identity and transaction data to work with the whole dataset"
      ],
      "metadata": {
        "id": "rtPk9CaT_NkH"
      },
      "id": "rtPk9CaT_NkH"
    },
    {
      "cell_type": "code",
      "source": [
        "train = pd.merge(train_transaction, train_identity, on='TransactionID', how='left')\n",
        "test = pd.merge(test_transaction, test_identity, on='TransactionID', how='left')"
      ],
      "metadata": {
        "id": "jmy_CQMq_Ha7"
      },
      "id": "jmy_CQMq_Ha7",
      "execution_count": null,
      "outputs": []
    },
    {
      "cell_type": "code",
      "execution_count": null,
      "id": "b4869175",
      "metadata": {
        "scrolled": true,
        "id": "b4869175"
      },
      "outputs": [],
      "source": [
        "\n",
        "print(f'Transaction dataset has {all_transaction.shape[0]} rows and {all_transaction.shape[1]} columns')\n",
        "print(f'Identity dataset has {all_identity.shape[0]} rows and {all_identity.shape[1]} columns')\n",
        "print(f'Training dataset has {train.shape[0]} rows and {train.shape[1]} columns')\n",
        "print(f'Testing dataset has {test.shape[0]} rows and {test.shape[1]} columns')\n",
        "\n"
      ]
    },
    {
      "cell_type": "code",
      "execution_count": null,
      "id": "69426112",
      "metadata": {
        "scrolled": true,
        "id": "69426112"
      },
      "outputs": [],
      "source": [
        "print(train.head())"
      ]
    },
    {
      "cell_type": "code",
      "execution_count": null,
      "id": "491cfc1d",
      "metadata": {
        "scrolled": true,
        "id": "491cfc1d"
      },
      "outputs": [],
      "source": [
        "print(all_transaction.describe)"
      ]
    },
    {
      "cell_type": "code",
      "execution_count": null,
      "id": "2c65576c",
      "metadata": {
        "scrolled": true,
        "id": "2c65576c"
      },
      "outputs": [],
      "source": [
        "all_transaction.columns"
      ]
    },
    {
      "cell_type": "code",
      "execution_count": null,
      "id": "55c2c518",
      "metadata": {
        "id": "55c2c518"
      },
      "outputs": [],
      "source": [
        "all_transaction['isFraud'].value_counts(dropna=False)"
      ]
    },
    {
      "cell_type": "markdown",
      "source": [
        "We can see the dataset has class imbalance where fraudulent instances are really low compared to not fraud cases. This will require sampling method like SMOTE to handle class imbalance. Additionally we can see that almost half of the transactions don't have a label on whether it is a fraud or not."
      ],
      "metadata": {
        "id": "u198MqlA0i2F"
      },
      "id": "u198MqlA0i2F"
    },
    {
      "cell_type": "code",
      "source": [
        "all_transaction.info()"
      ],
      "metadata": {
        "id": "tGMkSRxOyo_f"
      },
      "id": "tGMkSRxOyo_f",
      "execution_count": null,
      "outputs": []
    },
    {
      "cell_type": "code",
      "source": [
        "all_transaction.isnull().sum()"
      ],
      "metadata": {
        "id": "rOefIvZr0xhm"
      },
      "id": "rOefIvZr0xhm",
      "execution_count": null,
      "outputs": []
    }
  ],
  "metadata": {
    "kernelspec": {
      "display_name": "Python 3 (ipykernel)",
      "language": "python",
      "name": "python3"
    },
    "language_info": {
      "codemirror_mode": {
        "name": "ipython",
        "version": 3
      },
      "file_extension": ".py",
      "mimetype": "text/x-python",
      "name": "python",
      "nbconvert_exporter": "python",
      "pygments_lexer": "ipython3",
      "version": "3.10.9"
    },
    "colab": {
      "provenance": [],
      "include_colab_link": true
    }
  },
  "nbformat": 4,
  "nbformat_minor": 5
}